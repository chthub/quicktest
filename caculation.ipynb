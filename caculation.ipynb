{
 "cells": [
  {
   "cell_type": "code",
   "execution_count": 2,
   "metadata": {},
   "outputs": [
    {
     "name": "stdout",
     "output_type": "stream",
     "text": [
      "21.0 42.57000000000005 23.950000000000045\n"
     ]
    }
   ],
   "source": [
    "v7=35\n",
    "v8=65\n",
    "v9=285\n",
    "v10=1900\n",
    "v3_=1.5\n",
    "v4_=80\n",
    "p89=0.47\n",
    "p910=0.342\n",
    "p910_=0.37\n",
    "\n",
    "\n",
    "profit89=p89*(v9-v7)+v7-2*v8-v3_\n",
    "profit910=p910*(v10-v8)+v8-2*v9-v4_\n",
    "profit910_=p910_*(v10-v8)+v8-2*v9-2*v7-v4_\n",
    "\n",
    "print(profit89,profit910,profit910_)"
   ]
  }
 ],
 "metadata": {
  "kernelspec": {
   "display_name": "Python 3",
   "language": "python",
   "name": "python3"
  },
  "language_info": {
   "codemirror_mode": {
    "name": "ipython",
    "version": 3
   },
   "file_extension": ".py",
   "mimetype": "text/x-python",
   "name": "python",
   "nbconvert_exporter": "python",
   "pygments_lexer": "ipython3",
   "version": "3.12.3"
  }
 },
 "nbformat": 4,
 "nbformat_minor": 2
}
